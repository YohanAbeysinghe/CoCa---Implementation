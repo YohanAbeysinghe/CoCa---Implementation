{
 "cells": [
  {
   "cell_type": "code",
   "execution_count": 3,
   "metadata": {},
   "outputs": [
    {
     "name": "stdout",
     "output_type": "stream",
     "text": [
      "Requirement already satisfied: coca-pytorch in /Users/yohanabeysinghe/miniconda3/envs/torch/lib/python3.9/site-packages (0.1.0)\n",
      "Requirement already satisfied: einops>=0.4 in /Users/yohanabeysinghe/miniconda3/envs/torch/lib/python3.9/site-packages (from coca-pytorch) (0.7.0)\n",
      "Requirement already satisfied: torch>=1.6 in /Users/yohanabeysinghe/miniconda3/envs/torch/lib/python3.9/site-packages (from coca-pytorch) (2.0.0.dev20230113)\n",
      "Requirement already satisfied: typing_extensions in /Users/yohanabeysinghe/miniconda3/envs/torch/lib/python3.9/site-packages (from torch>=1.6->coca-pytorch) (4.4.0)\n",
      "Requirement already satisfied: sympy in /Users/yohanabeysinghe/miniconda3/envs/torch/lib/python3.9/site-packages (from torch>=1.6->coca-pytorch) (1.11.1)\n",
      "Requirement already satisfied: networkx in /Users/yohanabeysinghe/miniconda3/envs/torch/lib/python3.9/site-packages (from torch>=1.6->coca-pytorch) (3.2.1)\n",
      "Requirement already satisfied: mpmath>=0.19 in /Users/yohanabeysinghe/miniconda3/envs/torch/lib/python3.9/site-packages (from sympy->torch>=1.6->coca-pytorch) (1.2.1)\n",
      "Collecting vit_pytorch\n",
      "  Downloading vit_pytorch-1.6.5-py3-none-any.whl (100 kB)\n",
      "\u001b[2K     \u001b[90m━━━━━━━━━━━━━━━━━━━━━━━━━━━━━━━━━━━━━━\u001b[0m \u001b[32m100.3/100.3 kB\u001b[0m \u001b[31m63.6 kB/s\u001b[0m eta \u001b[36m0:00:00\u001b[0ma \u001b[36m0:00:01\u001b[0m\n",
      "\u001b[?25hRequirement already satisfied: einops>=0.7.0 in /Users/yohanabeysinghe/miniconda3/envs/torch/lib/python3.9/site-packages (from vit_pytorch) (0.7.0)\n",
      "Requirement already satisfied: torch>=1.10 in /Users/yohanabeysinghe/miniconda3/envs/torch/lib/python3.9/site-packages (from vit_pytorch) (2.0.0.dev20230113)\n",
      "Requirement already satisfied: torchvision in /Users/yohanabeysinghe/miniconda3/envs/torch/lib/python3.9/site-packages (from vit_pytorch) (0.15.0.dev20230113)\n",
      "Requirement already satisfied: typing_extensions in /Users/yohanabeysinghe/miniconda3/envs/torch/lib/python3.9/site-packages (from torch>=1.10->vit_pytorch) (4.4.0)\n",
      "Requirement already satisfied: sympy in /Users/yohanabeysinghe/miniconda3/envs/torch/lib/python3.9/site-packages (from torch>=1.10->vit_pytorch) (1.11.1)\n",
      "Requirement already satisfied: networkx in /Users/yohanabeysinghe/miniconda3/envs/torch/lib/python3.9/site-packages (from torch>=1.10->vit_pytorch) (3.2.1)\n",
      "Requirement already satisfied: numpy in /Users/yohanabeysinghe/miniconda3/envs/torch/lib/python3.9/site-packages (from torchvision->vit_pytorch) (1.24.1)\n",
      "Requirement already satisfied: requests in /Users/yohanabeysinghe/miniconda3/envs/torch/lib/python3.9/site-packages (from torchvision->vit_pytorch) (2.28.1)\n",
      "Requirement already satisfied: pillow!=8.3.*,>=5.3.0 in /Users/yohanabeysinghe/miniconda3/envs/torch/lib/python3.9/site-packages (from torchvision->vit_pytorch) (9.4.0)\n",
      "Requirement already satisfied: idna<4,>=2.5 in /Users/yohanabeysinghe/miniconda3/envs/torch/lib/python3.9/site-packages (from requests->torchvision->vit_pytorch) (3.4)\n",
      "Requirement already satisfied: charset-normalizer<3,>=2 in /Users/yohanabeysinghe/miniconda3/envs/torch/lib/python3.9/site-packages (from requests->torchvision->vit_pytorch) (2.1.1)\n",
      "Requirement already satisfied: certifi>=2017.4.17 in /Users/yohanabeysinghe/miniconda3/envs/torch/lib/python3.9/site-packages (from requests->torchvision->vit_pytorch) (2023.11.17)\n",
      "Requirement already satisfied: urllib3<1.27,>=1.21.1 in /Users/yohanabeysinghe/miniconda3/envs/torch/lib/python3.9/site-packages (from requests->torchvision->vit_pytorch) (1.26.14)\n",
      "Requirement already satisfied: mpmath>=0.19 in /Users/yohanabeysinghe/miniconda3/envs/torch/lib/python3.9/site-packages (from sympy->torch>=1.10->vit_pytorch) (1.2.1)\n",
      "Installing collected packages: vit_pytorch\n",
      "Successfully installed vit_pytorch-1.6.5\n"
     ]
    }
   ],
   "source": [
    "!pip install coca-pytorch\n",
    "!pip install vit_pytorch"
   ]
  },
  {
   "cell_type": "code",
   "execution_count": 4,
   "metadata": {},
   "outputs": [
    {
     "ename": "AssertionError",
     "evalue": "Torch not compiled with CUDA enabled",
     "output_type": "error",
     "traceback": [
      "\u001b[0;31m---------------------------------------------------------------------------\u001b[0m",
      "\u001b[0;31mAssertionError\u001b[0m                            Traceback (most recent call last)",
      "Cell \u001b[0;32mIn[4], line 27\u001b[0m\n\u001b[1;32m     21\u001b[0m \u001b[38;5;66;03m# extractor will enable it so the vision transformer returns its embeddings\u001b[39;00m\n\u001b[1;32m     22\u001b[0m \n\u001b[1;32m     23\u001b[0m \u001b[38;5;66;03m# import CoCa and instantiate it\u001b[39;00m\n\u001b[1;32m     25\u001b[0m \u001b[38;5;28;01mfrom\u001b[39;00m \u001b[38;5;21;01mcoca_pytorch\u001b[39;00m\u001b[38;5;21;01m.\u001b[39;00m\u001b[38;5;21;01mcoca_pytorch\u001b[39;00m \u001b[38;5;28;01mimport\u001b[39;00m CoCa\n\u001b[0;32m---> 27\u001b[0m coca \u001b[38;5;241m=\u001b[39m \u001b[43mCoCa\u001b[49m\u001b[43m(\u001b[49m\n\u001b[1;32m     28\u001b[0m \u001b[43m    \u001b[49m\u001b[43mdim\u001b[49m\u001b[43m \u001b[49m\u001b[38;5;241;43m=\u001b[39;49m\u001b[43m \u001b[49m\u001b[38;5;241;43m512\u001b[39;49m\u001b[43m,\u001b[49m\u001b[43m                     \u001b[49m\u001b[38;5;66;43;03m# model dimension\u001b[39;49;00m\n\u001b[1;32m     29\u001b[0m \u001b[43m    \u001b[49m\u001b[43mimg_encoder\u001b[49m\u001b[43m \u001b[49m\u001b[38;5;241;43m=\u001b[39;49m\u001b[43m \u001b[49m\u001b[43mvit\u001b[49m\u001b[43m,\u001b[49m\u001b[43m             \u001b[49m\u001b[38;5;66;43;03m# vision transformer - image encoder, returning image embeddings as (batch, seq, dim)\u001b[39;49;00m\n\u001b[1;32m     30\u001b[0m \u001b[43m    \u001b[49m\u001b[43mimage_dim\u001b[49m\u001b[43m \u001b[49m\u001b[38;5;241;43m=\u001b[39;49m\u001b[43m \u001b[49m\u001b[38;5;241;43m1024\u001b[39;49m\u001b[43m,\u001b[49m\u001b[43m              \u001b[49m\u001b[38;5;66;43;03m# image embedding dimension, if not the same as model dimensions\u001b[39;49;00m\n\u001b[1;32m     31\u001b[0m \u001b[43m    \u001b[49m\u001b[43mnum_tokens\u001b[49m\u001b[43m \u001b[49m\u001b[38;5;241;43m=\u001b[39;49m\u001b[43m \u001b[49m\u001b[38;5;241;43m20000\u001b[39;49m\u001b[43m,\u001b[49m\u001b[43m            \u001b[49m\u001b[38;5;66;43;03m# number of text tokens\u001b[39;49;00m\n\u001b[1;32m     32\u001b[0m \u001b[43m    \u001b[49m\u001b[43munimodal_depth\u001b[49m\u001b[43m \u001b[49m\u001b[38;5;241;43m=\u001b[39;49m\u001b[43m \u001b[49m\u001b[38;5;241;43m6\u001b[39;49m\u001b[43m,\u001b[49m\u001b[43m            \u001b[49m\u001b[38;5;66;43;03m# depth of the unimodal transformer\u001b[39;49;00m\n\u001b[1;32m     33\u001b[0m \u001b[43m    \u001b[49m\u001b[43mmultimodal_depth\u001b[49m\u001b[43m \u001b[49m\u001b[38;5;241;43m=\u001b[39;49m\u001b[43m \u001b[49m\u001b[38;5;241;43m6\u001b[39;49m\u001b[43m,\u001b[49m\u001b[43m          \u001b[49m\u001b[38;5;66;43;03m# depth of the multimodal transformer\u001b[39;49;00m\n\u001b[1;32m     34\u001b[0m \u001b[43m    \u001b[49m\u001b[43mdim_head\u001b[49m\u001b[43m \u001b[49m\u001b[38;5;241;43m=\u001b[39;49m\u001b[43m \u001b[49m\u001b[38;5;241;43m64\u001b[39;49m\u001b[43m,\u001b[49m\u001b[43m                 \u001b[49m\u001b[38;5;66;43;03m# dimension per attention head\u001b[39;49;00m\n\u001b[1;32m     35\u001b[0m \u001b[43m    \u001b[49m\u001b[43mheads\u001b[49m\u001b[43m \u001b[49m\u001b[38;5;241;43m=\u001b[39;49m\u001b[43m \u001b[49m\u001b[38;5;241;43m8\u001b[39;49m\u001b[43m,\u001b[49m\u001b[43m                     \u001b[49m\u001b[38;5;66;43;03m# number of attention heads\u001b[39;49;00m\n\u001b[1;32m     36\u001b[0m \u001b[43m    \u001b[49m\u001b[43mcaption_loss_weight\u001b[49m\u001b[43m \u001b[49m\u001b[38;5;241;43m=\u001b[39;49m\u001b[43m \u001b[49m\u001b[38;5;241;43m1.\u001b[39;49m\u001b[43m,\u001b[49m\u001b[43m      \u001b[49m\u001b[38;5;66;43;03m# weight on the autoregressive caption loss\u001b[39;49;00m\n\u001b[1;32m     37\u001b[0m \u001b[43m    \u001b[49m\u001b[43mcontrastive_loss_weight\u001b[49m\u001b[43m \u001b[49m\u001b[38;5;241;43m=\u001b[39;49m\u001b[43m \u001b[49m\u001b[38;5;241;43m1.\u001b[39;49m\u001b[43m,\u001b[49m\u001b[43m  \u001b[49m\u001b[38;5;66;43;03m# weight on the contrastive loss between image and text CLS embeddings\u001b[39;49;00m\n\u001b[1;32m     38\u001b[0m \u001b[43m)\u001b[49m\u001b[38;5;241;43m.\u001b[39;49m\u001b[43mcuda\u001b[49m\u001b[43m(\u001b[49m\u001b[43m)\u001b[49m\n\u001b[1;32m     40\u001b[0m \u001b[38;5;66;03m# mock text and images\u001b[39;00m\n\u001b[1;32m     42\u001b[0m text \u001b[38;5;241m=\u001b[39m torch\u001b[38;5;241m.\u001b[39mrandint(\u001b[38;5;241m0\u001b[39m, \u001b[38;5;241m20000\u001b[39m, (\u001b[38;5;241m4\u001b[39m, \u001b[38;5;241m512\u001b[39m))\u001b[38;5;241m.\u001b[39mcuda()\n",
      "File \u001b[0;32m~/miniconda3/envs/torch/lib/python3.9/site-packages/torch/nn/modules/module.py:892\u001b[0m, in \u001b[0;36mModule.cuda\u001b[0;34m(self, device)\u001b[0m\n\u001b[1;32m    875\u001b[0m \u001b[38;5;28;01mdef\u001b[39;00m \u001b[38;5;21mcuda\u001b[39m(\u001b[38;5;28mself\u001b[39m: T, device: Optional[Union[\u001b[38;5;28mint\u001b[39m, device]] \u001b[38;5;241m=\u001b[39m \u001b[38;5;28;01mNone\u001b[39;00m) \u001b[38;5;241m-\u001b[39m\u001b[38;5;241m>\u001b[39m T:\n\u001b[1;32m    876\u001b[0m \u001b[38;5;250m    \u001b[39m\u001b[38;5;124mr\u001b[39m\u001b[38;5;124;03m\"\"\"Moves all model parameters and buffers to the GPU.\u001b[39;00m\n\u001b[1;32m    877\u001b[0m \n\u001b[1;32m    878\u001b[0m \u001b[38;5;124;03m    This also makes associated parameters and buffers different objects. So\u001b[39;00m\n\u001b[0;32m   (...)\u001b[0m\n\u001b[1;32m    890\u001b[0m \u001b[38;5;124;03m        Module: self\u001b[39;00m\n\u001b[1;32m    891\u001b[0m \u001b[38;5;124;03m    \"\"\"\u001b[39;00m\n\u001b[0;32m--> 892\u001b[0m     \u001b[38;5;28;01mreturn\u001b[39;00m \u001b[38;5;28;43mself\u001b[39;49m\u001b[38;5;241;43m.\u001b[39;49m\u001b[43m_apply\u001b[49m\u001b[43m(\u001b[49m\u001b[38;5;28;43;01mlambda\u001b[39;49;00m\u001b[43m \u001b[49m\u001b[43mt\u001b[49m\u001b[43m:\u001b[49m\u001b[43m \u001b[49m\u001b[43mt\u001b[49m\u001b[38;5;241;43m.\u001b[39;49m\u001b[43mcuda\u001b[49m\u001b[43m(\u001b[49m\u001b[43mdevice\u001b[49m\u001b[43m)\u001b[49m\u001b[43m)\u001b[49m\n",
      "File \u001b[0;32m~/miniconda3/envs/torch/lib/python3.9/site-packages/torch/nn/modules/module.py:784\u001b[0m, in \u001b[0;36mModule._apply\u001b[0;34m(self, fn)\u001b[0m\n\u001b[1;32m    782\u001b[0m \u001b[38;5;28;01mdef\u001b[39;00m \u001b[38;5;21m_apply\u001b[39m(\u001b[38;5;28mself\u001b[39m, fn):\n\u001b[1;32m    783\u001b[0m     \u001b[38;5;28;01mfor\u001b[39;00m module \u001b[38;5;129;01min\u001b[39;00m \u001b[38;5;28mself\u001b[39m\u001b[38;5;241m.\u001b[39mchildren():\n\u001b[0;32m--> 784\u001b[0m         \u001b[43mmodule\u001b[49m\u001b[38;5;241;43m.\u001b[39;49m\u001b[43m_apply\u001b[49m\u001b[43m(\u001b[49m\u001b[43mfn\u001b[49m\u001b[43m)\u001b[49m\n\u001b[1;32m    786\u001b[0m     \u001b[38;5;28;01mdef\u001b[39;00m \u001b[38;5;21mcompute_should_use_set_data\u001b[39m(tensor, tensor_applied):\n\u001b[1;32m    787\u001b[0m         \u001b[38;5;28;01mif\u001b[39;00m torch\u001b[38;5;241m.\u001b[39m_has_compatible_shallow_copy_type(tensor, tensor_applied):\n\u001b[1;32m    788\u001b[0m             \u001b[38;5;66;03m# If the new tensor has compatible tensor type as the existing tensor,\u001b[39;00m\n\u001b[1;32m    789\u001b[0m             \u001b[38;5;66;03m# the current behavior is to change the tensor in-place using `.data =`,\u001b[39;00m\n\u001b[0;32m   (...)\u001b[0m\n\u001b[1;32m    794\u001b[0m             \u001b[38;5;66;03m# global flag to let the user control whether they want the future\u001b[39;00m\n\u001b[1;32m    795\u001b[0m             \u001b[38;5;66;03m# behavior of overwriting the existing tensor or not.\u001b[39;00m\n",
      "File \u001b[0;32m~/miniconda3/envs/torch/lib/python3.9/site-packages/torch/nn/modules/module.py:807\u001b[0m, in \u001b[0;36mModule._apply\u001b[0;34m(self, fn)\u001b[0m\n\u001b[1;32m    803\u001b[0m \u001b[38;5;66;03m# Tensors stored in modules are graph leaves, and we don't want to\u001b[39;00m\n\u001b[1;32m    804\u001b[0m \u001b[38;5;66;03m# track autograd history of `param_applied`, so we have to use\u001b[39;00m\n\u001b[1;32m    805\u001b[0m \u001b[38;5;66;03m# `with torch.no_grad():`\u001b[39;00m\n\u001b[1;32m    806\u001b[0m \u001b[38;5;28;01mwith\u001b[39;00m torch\u001b[38;5;241m.\u001b[39mno_grad():\n\u001b[0;32m--> 807\u001b[0m     param_applied \u001b[38;5;241m=\u001b[39m \u001b[43mfn\u001b[49m\u001b[43m(\u001b[49m\u001b[43mparam\u001b[49m\u001b[43m)\u001b[49m\n\u001b[1;32m    808\u001b[0m should_use_set_data \u001b[38;5;241m=\u001b[39m compute_should_use_set_data(param, param_applied)\n\u001b[1;32m    809\u001b[0m \u001b[38;5;28;01mif\u001b[39;00m should_use_set_data:\n",
      "File \u001b[0;32m~/miniconda3/envs/torch/lib/python3.9/site-packages/torch/nn/modules/module.py:892\u001b[0m, in \u001b[0;36mModule.cuda.<locals>.<lambda>\u001b[0;34m(t)\u001b[0m\n\u001b[1;32m    875\u001b[0m \u001b[38;5;28;01mdef\u001b[39;00m \u001b[38;5;21mcuda\u001b[39m(\u001b[38;5;28mself\u001b[39m: T, device: Optional[Union[\u001b[38;5;28mint\u001b[39m, device]] \u001b[38;5;241m=\u001b[39m \u001b[38;5;28;01mNone\u001b[39;00m) \u001b[38;5;241m-\u001b[39m\u001b[38;5;241m>\u001b[39m T:\n\u001b[1;32m    876\u001b[0m \u001b[38;5;250m    \u001b[39m\u001b[38;5;124mr\u001b[39m\u001b[38;5;124;03m\"\"\"Moves all model parameters and buffers to the GPU.\u001b[39;00m\n\u001b[1;32m    877\u001b[0m \n\u001b[1;32m    878\u001b[0m \u001b[38;5;124;03m    This also makes associated parameters and buffers different objects. So\u001b[39;00m\n\u001b[0;32m   (...)\u001b[0m\n\u001b[1;32m    890\u001b[0m \u001b[38;5;124;03m        Module: self\u001b[39;00m\n\u001b[1;32m    891\u001b[0m \u001b[38;5;124;03m    \"\"\"\u001b[39;00m\n\u001b[0;32m--> 892\u001b[0m     \u001b[38;5;28;01mreturn\u001b[39;00m \u001b[38;5;28mself\u001b[39m\u001b[38;5;241m.\u001b[39m_apply(\u001b[38;5;28;01mlambda\u001b[39;00m t: \u001b[43mt\u001b[49m\u001b[38;5;241;43m.\u001b[39;49m\u001b[43mcuda\u001b[49m\u001b[43m(\u001b[49m\u001b[43mdevice\u001b[49m\u001b[43m)\u001b[49m)\n",
      "File \u001b[0;32m~/miniconda3/envs/torch/lib/python3.9/site-packages/torch/cuda/__init__.py:239\u001b[0m, in \u001b[0;36m_lazy_init\u001b[0;34m()\u001b[0m\n\u001b[1;32m    235\u001b[0m     \u001b[38;5;28;01mraise\u001b[39;00m \u001b[38;5;167;01mRuntimeError\u001b[39;00m(\n\u001b[1;32m    236\u001b[0m         \u001b[38;5;124m\"\u001b[39m\u001b[38;5;124mCannot re-initialize CUDA in forked subprocess. To use CUDA with \u001b[39m\u001b[38;5;124m\"\u001b[39m\n\u001b[1;32m    237\u001b[0m         \u001b[38;5;124m\"\u001b[39m\u001b[38;5;124mmultiprocessing, you must use the \u001b[39m\u001b[38;5;124m'\u001b[39m\u001b[38;5;124mspawn\u001b[39m\u001b[38;5;124m'\u001b[39m\u001b[38;5;124m start method\u001b[39m\u001b[38;5;124m\"\u001b[39m)\n\u001b[1;32m    238\u001b[0m \u001b[38;5;28;01mif\u001b[39;00m \u001b[38;5;129;01mnot\u001b[39;00m \u001b[38;5;28mhasattr\u001b[39m(torch\u001b[38;5;241m.\u001b[39m_C, \u001b[38;5;124m'\u001b[39m\u001b[38;5;124m_cuda_getDeviceCount\u001b[39m\u001b[38;5;124m'\u001b[39m):\n\u001b[0;32m--> 239\u001b[0m     \u001b[38;5;28;01mraise\u001b[39;00m \u001b[38;5;167;01mAssertionError\u001b[39;00m(\u001b[38;5;124m\"\u001b[39m\u001b[38;5;124mTorch not compiled with CUDA enabled\u001b[39m\u001b[38;5;124m\"\u001b[39m)\n\u001b[1;32m    240\u001b[0m \u001b[38;5;28;01mif\u001b[39;00m _cudart \u001b[38;5;129;01mis\u001b[39;00m \u001b[38;5;28;01mNone\u001b[39;00m:\n\u001b[1;32m    241\u001b[0m     \u001b[38;5;28;01mraise\u001b[39;00m \u001b[38;5;167;01mAssertionError\u001b[39;00m(\n\u001b[1;32m    242\u001b[0m         \u001b[38;5;124m\"\u001b[39m\u001b[38;5;124mlibcudart functions unavailable. It looks like you have a broken build?\u001b[39m\u001b[38;5;124m\"\u001b[39m)\n",
      "\u001b[0;31mAssertionError\u001b[0m: Torch not compiled with CUDA enabled"
     ]
    }
   ],
   "source": [
    "import torch\n",
    "\n",
    "# import vision transformer\n",
    "\n",
    "from vit_pytorch.simple_vit_with_patch_dropout import SimpleViT\n",
    "from vit_pytorch.extractor import Extractor\n",
    "\n",
    "vit = SimpleViT(\n",
    "    image_size = 256,\n",
    "    patch_size = 32,\n",
    "    num_classes = 1000,\n",
    "    dim = 1024,\n",
    "    depth = 6,\n",
    "    heads = 16,\n",
    "    mlp_dim = 2048,\n",
    "    patch_dropout = 0.5  # https://arxiv.org/abs/2212.00794\n",
    ")\n",
    "\n",
    "vit = Extractor(vit, return_embeddings_only = True, detach = False)\n",
    "\n",
    "# extractor will enable it so the vision transformer returns its embeddings\n",
    "\n",
    "# import CoCa and instantiate it\n",
    "\n",
    "from coca_pytorch.coca_pytorch import CoCa\n",
    "\n",
    "coca = CoCa(\n",
    "    dim = 512,                     # model dimension\n",
    "    img_encoder = vit,             # vision transformer - image encoder, returning image embeddings as (batch, seq, dim)\n",
    "    image_dim = 1024,              # image embedding dimension, if not the same as model dimensions\n",
    "    num_tokens = 20000,            # number of text tokens\n",
    "    unimodal_depth = 6,            # depth of the unimodal transformer\n",
    "    multimodal_depth = 6,          # depth of the multimodal transformer\n",
    "    dim_head = 64,                 # dimension per attention head\n",
    "    heads = 8,                     # number of attention heads\n",
    "    caption_loss_weight = 1.,      # weight on the autoregressive caption loss\n",
    "    contrastive_loss_weight = 1.,  # weight on the contrastive loss between image and text CLS embeddings\n",
    ").cuda()\n",
    "\n",
    "# mock text and images\n",
    "\n",
    "text = torch.randint(0, 20000, (4, 512)).cuda()\n",
    "images = torch.randn(4, 3, 256, 256).cuda()\n",
    "\n",
    "# train by giving CoCa your text and images with `return_loss = True`\n",
    "\n",
    "loss = coca(\n",
    "    text = text,\n",
    "    images = images,\n",
    "    return_loss = True  # set this to True to get the full caption + contrastive loss\n",
    ")\n",
    "\n",
    "loss.backward()\n",
    "\n",
    "# do the above for as much text and images...\n",
    "# then you can get the caption logits as so\n",
    "\n",
    "logits = coca(\n",
    "    text = text,\n",
    "    images = images\n",
    ") # (4, 512, 20000)\n",
    "\n",
    "# and the CLIP-like text and image embeddings as\n",
    "\n",
    "text_embeds, image_embeds = coca(\n",
    "    text = text,\n",
    "    images = images,\n",
    "    return_embeddings = True\n",
    ") # (4, 512), (4, 512)"
   ]
  }
 ],
 "metadata": {
  "kernelspec": {
   "display_name": "Python 3.9 (pytorch)",
   "language": "python",
   "name": "pytorch"
  },
  "language_info": {
   "codemirror_mode": {
    "name": "ipython",
    "version": 3
   },
   "file_extension": ".py",
   "mimetype": "text/x-python",
   "name": "python",
   "nbconvert_exporter": "python",
   "pygments_lexer": "ipython3",
   "version": "3.9.15"
  }
 },
 "nbformat": 4,
 "nbformat_minor": 2
}
